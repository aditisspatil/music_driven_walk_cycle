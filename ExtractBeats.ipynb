{
 "cells": [
  {
   "cell_type": "code",
   "execution_count": 4,
   "metadata": {},
   "outputs": [
    {
     "name": "stdout",
     "output_type": "stream",
     "text": [
      "[0.]\n",
      "[175.00007292]\n"
     ]
    }
   ],
   "source": [
    "from pretty_midi import pretty_midi\n",
    "import numpy as np\n",
    "import matplotlib.pyplot as plt\n",
    "\n",
    "file = pretty_midi.PrettyMIDI('MIDIs/green-hill-zone.mid')\n",
    "\n",
    "beats = file.get_beats()\n",
    "time = np.arange(beats.size)\n",
    "\n",
    "tempo_change_times, tempi = file.get_tempo_changes()\n",
    "\n",
    "# plt.plot([1, 2, 3], [4, 5, 6])\n",
    "print(tempo_change_times)\n",
    "print(tempi)"
   ]
  },
  {
   "cell_type": "code",
   "execution_count": null,
   "metadata": {},
   "outputs": [],
   "source": []
  }
 ],
 "metadata": {
  "interpreter": {
   "hash": "bade0f7f9f49759696b5ce8869c5404fde41d1e9470ec9f4474ffa961ab2ed97"
  },
  "kernelspec": {
   "display_name": "Python 3.10.0 ('env': venv)",
   "language": "python",
   "name": "python3"
  },
  "language_info": {
   "codemirror_mode": {
    "name": "ipython",
    "version": 3
   },
   "file_extension": ".py",
   "mimetype": "text/x-python",
   "name": "python",
   "nbconvert_exporter": "python",
   "pygments_lexer": "ipython3",
   "version": "3.10.0"
  },
  "orig_nbformat": 4
 },
 "nbformat": 4,
 "nbformat_minor": 2
}
