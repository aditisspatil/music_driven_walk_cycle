{
 "cells": [
  {
   "cell_type": "code",
   "execution_count": 12,
   "id": "b88fb976",
   "metadata": {},
   "outputs": [],
   "source": [
    "from mpl_toolkits.mplot3d import Axes3D\n",
    "import pandas as pd\n",
    "import matplotlib.pyplot as plt\n",
    "import numpy as np\n",
    "import os\n",
    "\n",
    "thisdir = os.getcwd()\n",
    "path = os.path.join(thisdir, \"Data\\subject_9.npz\")\n",
    "# for dirname, _, filenames in os.walk(path):\n",
    "#     for file in filenames:\n",
    "#         print(os.path.join(dirname, file))"
   ]
  },
  {
   "cell_type": "code",
   "execution_count": 3,
   "id": "f6ee2a54",
   "metadata": {},
   "outputs": [],
   "source": []
  },
  {
   "cell_type": "code",
   "execution_count": 11,
   "id": "d847085f",
   "metadata": {},
   "outputs": [
    {
     "name": "stdout",
     "output_type": "stream",
     "text": [
      "(9, 1200, 424, 512)\n"
     ]
    }
   ],
   "source": [
    "loaded = np.load(\"Data/subject_9.npz\")\n",
    "data = loaded['data']\n",
    "#get a specific silhouette\n",
    "silh = data[0,0,:,:]\n",
    "print(data.shape)\n"
   ]
  },
  {
   "cell_type": "code",
   "execution_count": 13,
   "id": "99d955ab",
   "metadata": {},
   "outputs": [
    {
     "name": "stdout",
     "output_type": "stream",
     "text": [
      "(9, 9, 1200, 75)\n",
      "['train' 'test' 'train' 'test' 'train' 'train' 'test' 'test' 'train']\n"
     ]
    }
   ],
   "source": [
    "import numpy as np\n",
    "loaded = np.load('Data/DIRO_skeletons.npz')\n",
    "\n",
    "#get skeleton data of size (n_subject, n_gait, n_frame, 25*3)\n",
    "data = loaded['data']\n",
    "\n",
    "#get joint coordinates of a specific skeleton\n",
    "skel = data[0,0,0,:]\n",
    "x = [skel[i] for i in range(0, len(skel), 3)]\n",
    "y = [skel[i] for i in range(1, len(skel), 3)]\n",
    "z = [skel[i] for i in range(2, len(skel), 3)]\n",
    "\n",
    "#get default separation\n",
    "separation = loaded['split']\n",
    "\n",
    "#print information\n",
    "print(data.shape)\n",
    "print(separation)"
   ]
  },
  {
   "cell_type": "code",
   "execution_count": 68,
   "id": "73ceee52",
   "metadata": {},
   "outputs": [
    {
     "data": {
      "image/png": "[encoded data removed]",
      "text/plain": [
       "<Figure size 432x288 with 1 Axes>"
      ]
     },
     "metadata": {
      "needs_background": "light"
     },
     "output_type": "display_data"
    }
   ],
   "source": [
    "# Understand which index points to which joint\n",
    "\n",
    "i = 0\n",
    "j = 21\n",
    "k = len(x)\n",
    "\n",
    "fig, ax = plt.subplots()\n",
    "ax.scatter(x[i:j], y[i:j], label= \"stars\", color= \"red\", marker= \"*\")\n",
    "ax.scatter(x[j:k], y[j:k], label= \"stars\", color= \"green\", marker= \"*\")\n",
    "\n",
    "\n",
    "ax.set_aspect(1)\n",
    "plt.show()"
   ]
  },
  {
   "cell_type": "code",
   "execution_count": 72,
   "id": "513e7072",
   "metadata": {},
   "outputs": [
    {
     "data": {
      "image/png": "[encoded data removed]",
      "text/plain": [
       "<Figure size 432x288 with 1 Axes>"
      ]
     },
     "metadata": {
      "needs_background": "light"
     },
     "output_type": "display_data"
    }
   ],
   "source": [
    "pairs = [\n",
    "    (2,3),  (0,1), (3,20), (1,20),\n",
    "    (4,5),  (5,6), (6,7), \n",
    "    (8,9),  (9,10),(10,11),\n",
    "    (4,20), (8,20), \n",
    "    (12,16),\n",
    "    (12,13),(13,14), (14,15),\n",
    "    (16,17),(17,18), (18,19),\n",
    "    ]\n",
    "\n",
    "def plot_skeleton(x,y,z):\n",
    "    fig, ax = plt.subplots()\n",
    "    for (i,j) in pairs:\n",
    "        plt.plot([x[i],x[j]], [y[i],y[j]], 'go', linestyle=\"-\")\n",
    "\n",
    "    ax.set_aspect(1)\n",
    "    plt.show()\n",
    "    \n",
    "plot_skeleton(x,y,z)"
   ]
  }
 ],
 "metadata": {
  "kernelspec": {
   "display_name": "Python 3 (ipykernel)",
   "language": "python",
   "name": "python3"
  },
  "language_info": {
   "codemirror_mode": {
    "name": "ipython",
    "version": 3
   },
   "file_extension": ".py",
   "mimetype": "text/x-python",
   "name": "python",
   "nbconvert_exporter": "python",
   "pygments_lexer": "ipython3",
   "version": "3.9.7"
  }
 },
 "nbformat": 4,
 "nbformat_minor": 5
}
